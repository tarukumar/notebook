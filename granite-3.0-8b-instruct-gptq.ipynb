{
 "cells": [
  {
   "cell_type": "code",
   "execution_count": null,
   "id": "6425cd20-794a-43ff-88bc-afdef6bef020",
   "metadata": {
    "tags": []
   },
   "outputs": [],
   "source": [
    "!pip install auto-gptq\n",
    "!pip install datasets"
   ]
  },
  {
   "cell_type": "code",
   "execution_count": null,
   "id": "0266cb5d-4a26-4d35-b4b2-8107eab48af6",
   "metadata": {
    "tags": []
   },
   "outputs": [],
   "source": [
    "!pip install --upgrade accelerate optimum transformers"
   ]
  },
  {
   "cell_type": "code",
   "execution_count": null,
   "id": "6a8c1cbd-858c-41ad-a8a3-7f59e3b80db2",
   "metadata": {
    "tags": []
   },
   "outputs": [],
   "source": [
    "from transformers import AutoModelForCausalLM, AutoTokenizer, GPTQConfig\n",
    "\n",
    "model_id = \"ibm-granite/granite-3.0-8b-instruct\"\n",
    "tokenizer = AutoTokenizer.from_pretrained(model_id)\n",
    "gptq_config = GPTQConfig(bits=4, dataset=\"c4-new\", tokenizer=tokenizer)"
   ]
  },
  {
   "cell_type": "code",
   "execution_count": null,
   "id": "7ce86133-a148-494d-a397-16bdb845f520",
   "metadata": {
    "tags": []
   },
   "outputs": [],
   "source": [
    "quantized_model = AutoModelForCausalLM.from_pretrained(model_id, device_map=\"cuda\", quantization_config=gptq_config)"
   ]
  },
  {
   "cell_type": "code",
   "execution_count": null,
   "id": "c569b1e9-526e-4931-adff-c3477ad291fc",
   "metadata": {},
   "outputs": [],
   "source": [
    "from huggingface_hub import notebook_login\n",
    "\n",
    "notebook_login()"
   ]
  },
  {
   "cell_type": "code",
   "execution_count": null,
   "id": "77449ced-2078-4eae-aefa-e4397d9e3f38",
   "metadata": {},
   "outputs": [],
   "source": [
    "#granite-3.0-8b-instruct-gptq\n",
    "quantized_model.push_to_hub(\"granite-3.0-8b-instruct-gptq\")"
   ]
  },
  {
   "cell_type": "code",
   "execution_count": null,
   "id": "f3f59d89-1785-456f-8091-6c3b6a38bf29",
   "metadata": {
    "tags": []
   },
   "outputs": [],
   "source": [
    "tokenizer.push_to_hub(\"granite-3.0-8b-instruct-gptq\")"
   ]
  },
  {
   "cell_type": "code",
   "execution_count": null,
   "id": "b555a894-a823-4ad1-883f-99e515af93d5",
   "metadata": {},
   "outputs": [],
   "source": []
  }
 ],
 "metadata": {
  "kernelspec": {
   "display_name": "Python 3.9",
   "language": "python",
   "name": "python3"
  },
  "language_info": {
   "codemirror_mode": {
    "name": "ipython",
    "version": 3
   },
   "file_extension": ".py",
   "mimetype": "text/x-python",
   "name": "python",
   "nbconvert_exporter": "python",
   "pygments_lexer": "ipython3",
   "version": "3.9.18"
  }
 },
 "nbformat": 4,
 "nbformat_minor": 5
}
